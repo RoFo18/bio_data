{
 "cells": [
  {
   "cell_type": "code",
   "execution_count": 48,
   "metadata": {},
   "outputs": [],
   "source": [
    "#set depdendies\n",
    "import pandas as pd\n",
    "import json\n",
    "import requests\n",
    "from pprint import pprint"
   ]
  },
  {
   "cell_type": "code",
   "execution_count": 49,
   "metadata": {},
   "outputs": [],
   "source": [
    "url = \"https://api.datausa.io/api/?sort=desc&show=geo&required=grads_total&sumlevel=state&cip=26&year=all\""
   ]
  },
  {
   "cell_type": "code",
   "execution_count": 50,
   "metadata": {},
   "outputs": [],
   "source": [
    "# Make an API call to the API and convert response object to JSON\n",
    "json = requests.get(url).json()"
   ]
  },
  {
   "cell_type": "code",
   "execution_count": 51,
   "metadata": {},
   "outputs": [
    {
     "data": {
      "text/plain": [
       "{'data': [[2013, '04000US01', '26', 1786],\n",
       "  [2013, '04000US02', '26', 138],\n",
       "  [2013, '04000US04', '26', 2316],\n",
       "  [2013, '04000US05', '26', 754],\n",
       "  [2013, '04000US06', '26', 16046],\n",
       "  [2013, '04000US08', '26', 2477],\n",
       "  [2013, '04000US09', '26', 1794],\n",
       "  [2013, '04000US10', '26', 319],\n",
       "  [2013, '04000US11', '26', 967],\n",
       "  [2013, '04000US12', '26', 6718],\n",
       "  [2013, '04000US13', '26', 3520],\n",
       "  [2013, '04000US15', '26', 421],\n",
       "  [2013, '04000US16', '26', 738],\n",
       "  [2013, '04000US17', '26', 4868],\n",
       "  [2013, '04000US18', '26', 2337],\n",
       "  [2013, '04000US19', '26', 1537],\n",
       "  [2013, '04000US20', '26', 987],\n",
       "  [2013, '04000US21', '26', 1268],\n",
       "  [2013, '04000US22', '26', 1816],\n",
       "  [2013, '04000US23', '26', 620],\n",
       "  [2013, '04000US24', '26', 3202],\n",
       "  [2013, '04000US25', '26', 5027],\n",
       "  [2013, '04000US26', '26', 4530],\n",
       "  [2013, '04000US27', '26', 2812],\n",
       "  [2013, '04000US28', '26', 1329],\n",
       "  [2013, '04000US29', '26', 2389],\n",
       "  [2013, '04000US30', '26', 403],\n",
       "  [2013, '04000US31', '26', 875],\n",
       "  [2013, '04000US32', '26', 543],\n",
       "  [2013, '04000US33', '26', 557],\n",
       "  [2013, '04000US34', '26', 3229],\n",
       "  [2013, '04000US35', '26', 570],\n",
       "  [2013, '04000US36', '26', 9308],\n",
       "  [2013, '04000US37', '26', 3927],\n",
       "  [2013, '04000US38', '26', 359],\n",
       "  [2013, '04000US39', '26', 4361],\n",
       "  [2013, '04000US40', '26', 1245],\n",
       "  [2013, '04000US41', '26', 1476],\n",
       "  [2013, '04000US42', '26', 6574],\n",
       "  [2013, '04000US44', '26', 671],\n",
       "  [2013, '04000US45', '26', 2261],\n",
       "  [2013, '04000US46', '26', 372],\n",
       "  [2013, '04000US47', '26', 1837],\n",
       "  [2013, '04000US48', '26', 9358],\n",
       "  [2013, '04000US49', '26', 1477],\n",
       "  [2013, '04000US50', '26', 437],\n",
       "  [2013, '04000US51', '26', 3549],\n",
       "  [2013, '04000US53', '26', 2648],\n",
       "  [2013, '04000US54', '26', 625],\n",
       "  [2013, '04000US55', '26', 3134],\n",
       "  [2013, '04000US56', '26', 209],\n",
       "  [2013, '04000US66', '26', 10],\n",
       "  [2013, '04000US72', '26', 1572],\n",
       "  [2013, '04000US78', '26', 20],\n",
       "  [2014, '04000US01', '26', 1834],\n",
       "  [2014, '04000US02', '26', 134],\n",
       "  [2014, '04000US04', '26', 2375],\n",
       "  [2014, '04000US05', '26', 892],\n",
       "  [2014, '04000US06', '26', 16649],\n",
       "  [2014, '04000US08', '26', 2761],\n",
       "  [2014, '04000US09', '26', 1866],\n",
       "  [2014, '04000US10', '26', 335],\n",
       "  [2014, '04000US11', '26', 1001],\n",
       "  [2014, '04000US12', '26', 7025],\n",
       "  [2014, '04000US13', '26', 3881],\n",
       "  [2014, '04000US15', '26', 441],\n",
       "  [2014, '04000US16', '26', 802],\n",
       "  [2014, '04000US17', '26', 4812],\n",
       "  [2014, '04000US18', '26', 2377],\n",
       "  [2014, '04000US19', '26', 1599],\n",
       "  [2014, '04000US20', '26', 989],\n",
       "  [2014, '04000US21', '26', 1258],\n",
       "  [2014, '04000US22', '26', 1792],\n",
       "  [2014, '04000US23', '26', 672],\n",
       "  [2014, '04000US24', '26', 3212],\n",
       "  [2014, '04000US25', '26', 5575],\n",
       "  [2014, '04000US26', '26', 4673],\n",
       "  [2014, '04000US27', '26', 2948],\n",
       "  [2014, '04000US28', '26', 1410],\n",
       "  [2014, '04000US29', '26', 2502],\n",
       "  [2014, '04000US30', '26', 452],\n",
       "  [2014, '04000US31', '26', 966],\n",
       "  [2014, '04000US32', '26', 623],\n",
       "  [2014, '04000US33', '26', 615],\n",
       "  [2014, '04000US34', '26', 3176],\n",
       "  [2014, '04000US35', '26', 605],\n",
       "  [2014, '04000US36', '26', 9344],\n",
       "  [2014, '04000US37', '26', 4270],\n",
       "  [2014, '04000US38', '26', 368],\n",
       "  [2014, '04000US39', '26', 4794],\n",
       "  [2014, '04000US40', '26', 1328],\n",
       "  [2014, '04000US41', '26', 1614],\n",
       "  [2014, '04000US42', '26', 6881],\n",
       "  [2014, '04000US44', '26', 698],\n",
       "  [2014, '04000US45', '26', 2338],\n",
       "  [2014, '04000US46', '26', 374],\n",
       "  [2014, '04000US47', '26', 1972],\n",
       "  [2014, '04000US48', '26', 9392],\n",
       "  [2014, '04000US49', '26', 1537],\n",
       "  [2014, '04000US50', '26', 444],\n",
       "  [2014, '04000US51', '26', 3723],\n",
       "  [2014, '04000US53', '26', 2832],\n",
       "  [2014, '04000US54', '26', 616],\n",
       "  [2014, '04000US55', '26', 3262],\n",
       "  [2014, '04000US56', '26', 256],\n",
       "  [2014, '04000US66', '26', 14],\n",
       "  [2014, '04000US72', '26', 1926],\n",
       "  [2014, '04000US78', '26', 26],\n",
       "  [2015, '04000US01', '26', 1847],\n",
       "  [2015, '04000US02', '26', 149],\n",
       "  [2015, '04000US04', '26', 2572],\n",
       "  [2015, '04000US05', '26', 882],\n",
       "  [2015, '04000US06', '26', 16972],\n",
       "  [2015, '04000US08', '26', 2853],\n",
       "  [2015, '04000US09', '26', 1952],\n",
       "  [2015, '04000US10', '26', 347],\n",
       "  [2015, '04000US11', '26', 1059],\n",
       "  [2015, '04000US12', '26', 7688],\n",
       "  [2015, '04000US13', '26', 3990],\n",
       "  [2015, '04000US15', '26', 483],\n",
       "  [2015, '04000US16', '26', 857],\n",
       "  [2015, '04000US17', '26', 4771],\n",
       "  [2015, '04000US18', '26', 2521],\n",
       "  [2015, '04000US19', '26', 1739],\n",
       "  [2015, '04000US20', '26', 1004],\n",
       "  [2015, '04000US21', '26', 1290],\n",
       "  [2015, '04000US22', '26', 1955],\n",
       "  [2015, '04000US23', '26', 653],\n",
       "  [2015, '04000US24', '26', 3379],\n",
       "  [2015, '04000US25', '26', 5791],\n",
       "  [2015, '04000US26', '26', 4723],\n",
       "  [2015, '04000US27', '26', 3145],\n",
       "  [2015, '04000US28', '26', 1403],\n",
       "  [2015, '04000US29', '26', 2552],\n",
       "  [2015, '04000US30', '26', 431],\n",
       "  [2015, '04000US31', '26', 984],\n",
       "  [2015, '04000US32', '26', 671],\n",
       "  [2015, '04000US33', '26', 679],\n",
       "  [2015, '04000US34', '26', 3414],\n",
       "  [2015, '04000US35', '26', 591],\n",
       "  [2015, '04000US36', '26', 10031],\n",
       "  [2015, '04000US37', '26', 4477],\n",
       "  [2015, '04000US38', '26', 385],\n",
       "  [2015, '04000US39', '26', 4824],\n",
       "  [2015, '04000US40', '26', 1377],\n",
       "  [2015, '04000US41', '26', 1615],\n",
       "  [2015, '04000US42', '26', 7128],\n",
       "  [2015, '04000US44', '26', 771],\n",
       "  [2015, '04000US45', '26', 2611],\n",
       "  [2015, '04000US46', '26', 412],\n",
       "  [2015, '04000US47', '26', 2112],\n",
       "  [2015, '04000US48', '26', 10078],\n",
       "  [2015, '04000US49', '26', 1588],\n",
       "  [2015, '04000US50', '26', 478],\n",
       "  [2015, '04000US51', '26', 3947],\n",
       "  [2015, '04000US53', '26', 3085],\n",
       "  [2015, '04000US54', '26', 596],\n",
       "  [2015, '04000US55', '26', 3336],\n",
       "  [2015, '04000US56', '26', 249],\n",
       "  [2015, '04000US66', '26', 23],\n",
       "  [2015, '04000US72', '26', 1972],\n",
       "  [2015, '04000US78', '26', 23]],\n",
       " 'headers': ['year', 'geo', 'cip', 'grads_total'],\n",
       " 'logic': [{'dataset': 'NCES IPEDS',\n",
       "   'link': 'http://nces.ed.gov/ipeds/',\n",
       "   'org': 'Department of Education',\n",
       "   'supported_levels': {'cip': ['2', '4', '6', 'all'],\n",
       "    'geo': ['nation', 'state', 'county', 'place', 'msa', 'puma', 'all']},\n",
       "   'table': 'ipeds.grads_ygc'},\n",
       "  {'dataset': 'NCES IPEDS',\n",
       "   'link': 'http://nces.ed.gov/ipeds/',\n",
       "   'org': 'Department of Education',\n",
       "   'supported_levels': {'cip': ['2', '4', '6', 'all'],\n",
       "    'degree': ['all'],\n",
       "    'geo': ['nation', 'state', 'county', 'place', 'msa', 'puma', 'all']},\n",
       "   'table': 'ipeds.grads_ygcd'}],\n",
       " 'source': {'dataset': 'NCES IPEDS',\n",
       "  'link': 'http://nces.ed.gov/ipeds/',\n",
       "  'org': 'Department of Education',\n",
       "  'supported_levels': {'cip': ['2', '4', '6', 'all'],\n",
       "   'geo': ['nation', 'state', 'county', 'place', 'msa', 'puma', 'all']},\n",
       "  'table': 'ipeds.grads_ygc'},\n",
       " 'subs': {}}"
      ]
     },
     "execution_count": 51,
     "metadata": {},
     "output_type": "execute_result"
    }
   ],
   "source": [
    "json"
   ]
  },
  {
   "cell_type": "code",
   "execution_count": 52,
   "metadata": {},
   "outputs": [],
   "source": [
    "# Converting the response to JSON\n",
    "data = [dict(zip(json[\"headers\"], d)) for d in json[\"data\"]]"
   ]
  },
  {
   "cell_type": "code",
   "execution_count": 53,
   "metadata": {},
   "outputs": [],
   "source": [
    "x =data[0]"
   ]
  },
  {
   "cell_type": "code",
   "execution_count": 54,
   "metadata": {},
   "outputs": [
    {
     "data": {
      "text/plain": [
       "['year', 'geo', 'cip', 'grads_total']"
      ]
     },
     "execution_count": 54,
     "metadata": {},
     "output_type": "execute_result"
    }
   ],
   "source": [
    "# explore the structure of the returned JSON object\n",
    "json['headers']"
   ]
  },
  {
   "cell_type": "code",
   "execution_count": 55,
   "metadata": {},
   "outputs": [
    {
     "data": {
      "text/html": [
       "<div>\n",
       "<style scoped>\n",
       "    .dataframe tbody tr th:only-of-type {\n",
       "        vertical-align: middle;\n",
       "    }\n",
       "\n",
       "    .dataframe tbody tr th {\n",
       "        vertical-align: top;\n",
       "    }\n",
       "\n",
       "    .dataframe thead th {\n",
       "        text-align: right;\n",
       "    }\n",
       "</style>\n",
       "<table border=\"1\" class=\"dataframe\">\n",
       "  <thead>\n",
       "    <tr style=\"text-align: right;\">\n",
       "      <th></th>\n",
       "      <th>cip</th>\n",
       "      <th>geo</th>\n",
       "      <th>grads_total</th>\n",
       "      <th>year</th>\n",
       "    </tr>\n",
       "  </thead>\n",
       "  <tbody>\n",
       "    <tr>\n",
       "      <th>0</th>\n",
       "      <td>26</td>\n",
       "      <td>04000US01</td>\n",
       "      <td>1786</td>\n",
       "      <td>2013</td>\n",
       "    </tr>\n",
       "    <tr>\n",
       "      <th>1</th>\n",
       "      <td>26</td>\n",
       "      <td>04000US02</td>\n",
       "      <td>138</td>\n",
       "      <td>2013</td>\n",
       "    </tr>\n",
       "    <tr>\n",
       "      <th>2</th>\n",
       "      <td>26</td>\n",
       "      <td>04000US04</td>\n",
       "      <td>2316</td>\n",
       "      <td>2013</td>\n",
       "    </tr>\n",
       "    <tr>\n",
       "      <th>3</th>\n",
       "      <td>26</td>\n",
       "      <td>04000US05</td>\n",
       "      <td>754</td>\n",
       "      <td>2013</td>\n",
       "    </tr>\n",
       "    <tr>\n",
       "      <th>4</th>\n",
       "      <td>26</td>\n",
       "      <td>04000US06</td>\n",
       "      <td>16046</td>\n",
       "      <td>2013</td>\n",
       "    </tr>\n",
       "  </tbody>\n",
       "</table>\n",
       "</div>"
      ],
      "text/plain": [
       "  cip        geo  grads_total  year\n",
       "0  26  04000US01         1786  2013\n",
       "1  26  04000US02          138  2013\n",
       "2  26  04000US04         2316  2013\n",
       "3  26  04000US05          754  2013\n",
       "4  26  04000US06        16046  2013"
      ]
     },
     "execution_count": 55,
     "metadata": {},
     "output_type": "execute_result"
    }
   ],
   "source": [
    "r = requests.get(url)\n",
    "x = r.json()\n",
    "df = pd.DataFrame(data)\n",
    "df.head()"
   ]
  },
  {
   "cell_type": "code",
   "execution_count": 57,
   "metadata": {},
   "outputs": [
    {
     "data": {
      "text/plain": [
       "'geo'"
      ]
     },
     "execution_count": 57,
     "metadata": {},
     "output_type": "execute_result"
    }
   ],
   "source": [
    "'geo'[-4:]"
   ]
  },
  {
   "cell_type": "code",
   "execution_count": null,
   "metadata": {},
   "outputs": [],
   "source": []
  },
  {
   "cell_type": "code",
   "execution_count": 10,
   "metadata": {},
   "outputs": [
    {
     "ename": "NameError",
     "evalue": "name 'DataFrame' is not defined",
     "output_type": "error",
     "traceback": [
      "\u001b[0;31m---------------------------------------------------------------------------\u001b[0m",
      "\u001b[0;31mNameError\u001b[0m                                 Traceback (most recent call last)",
      "\u001b[0;32m<ipython-input-10-a8bef99a01f0>\u001b[0m in \u001b[0;36m<module>\u001b[0;34m()\u001b[0m\n\u001b[1;32m      1\u001b[0m \u001b[0;31m# merge by year and by census #\u001b[0m\u001b[0;34m\u001b[0m\u001b[0;34m\u001b[0m\u001b[0m\n\u001b[0;32m----> 2\u001b[0;31m \u001b[0mDataFrame\u001b[0m\u001b[0;34m.\u001b[0m\u001b[0mmerge\u001b[0m\u001b[0;34m(\u001b[0m\u001b[0;34m)\u001b[0m\u001b[0;34m\u001b[0m\u001b[0m\n\u001b[0m",
      "\u001b[0;31mNameError\u001b[0m: name 'DataFrame' is not defined"
     ]
    }
   ],
   "source": [
    "# merge by year and by census #\n",
    "DataFrame.merge()\n"
   ]
  },
  {
   "cell_type": "code",
   "execution_count": null,
   "metadata": {},
   "outputs": [],
   "source": []
  }
 ],
 "metadata": {
  "kernelspec": {
   "display_name": "Python 3",
   "language": "python",
   "name": "python3"
  },
  "language_info": {
   "codemirror_mode": {
    "name": "ipython",
    "version": 3
   },
   "file_extension": ".py",
   "mimetype": "text/x-python",
   "name": "python",
   "nbconvert_exporter": "python",
   "pygments_lexer": "ipython3",
   "version": "3.6.4"
  }
 },
 "nbformat": 4,
 "nbformat_minor": 2
}
